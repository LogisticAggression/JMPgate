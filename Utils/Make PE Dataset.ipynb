{
 "cells": [
  {
   "cell_type": "code",
   "execution_count": 1,
   "metadata": {
    "collapsed": false
   },
   "outputs": [],
   "source": [
    "import os\n",
    "import shutil\n",
    "\n",
    "from reNN.base import reNN_binary\n",
    "from reNN.peutils import pe2renn\n",
    "\n",
    "\n",
    "from tqdm import tqdm"
   ]
  },
  {
   "cell_type": "code",
   "execution_count": 2,
   "metadata": {
    "collapsed": true
   },
   "outputs": [],
   "source": [
    "def makeDataSetItem(filename):\n",
    "    try:\n",
    "        d = pemaker.dictify(filename)\n",
    "    except:\n",
    "        return\n",
    "    pemaker.dump_to_json(d, outDir+d[\"MD5\"])\n",
    "    \n",
    "def get_file_list(topdir):\n",
    "    PE_files = []\n",
    "    for root, dir, files in os.walk(topdir):\n",
    "        for f in files:\n",
    "            ext = f.split(\".\")[-1]\n",
    "            if ext.lower() != \"pdb\" and ext.lower() != \"functions\":\n",
    "                PE_files.append(root+\"/\"+f)\n",
    "    return PE_files"
   ]
  },
  {
   "cell_type": "code",
   "execution_count": null,
   "metadata": {
    "collapsed": false
   },
   "outputs": [],
   "source": [
    "peDir = \"/Volumes/data-1/raw_binaries/reactos-debug-x86/\"\n",
    "outDir = \"/Users/rob/ML_Data/code_standard/reactos/\"\n",
    "pemaker = pe2renn(arch=\"x86\", collection=\"reactos\", cc_name=\"visual studio\", cc_version=\"2015\",build_flags=\"debug\")"
   ]
  },
  {
   "cell_type": "code",
   "execution_count": null,
   "metadata": {
    "collapsed": false
   },
   "outputs": [],
   "source": [
    "for f in tqdm(get_file_list(peDir)):\n",
    "    makeDataSetItem(f)"
   ]
  },
  {
   "cell_type": "code",
   "execution_count": null,
   "metadata": {
    "collapsed": true
   },
   "outputs": [],
   "source": [
    "pemaker = \"\"\n",
    "peDir = \"/Volumes/data-1/raw_binaries/reactos-release-x86/\"\n",
    "outDir = \"/Users/rob/ML_Data/code_standard/reactos/\"\n",
    "pemaker = pe2renn(arch=\"x86\", collection=\"reactos\", cc_name=\"visual studio\", cc_version=\"2015\",build_flags=\"release\")"
   ]
  },
  {
   "cell_type": "code",
   "execution_count": null,
   "metadata": {
    "collapsed": false
   },
   "outputs": [],
   "source": [
    "for f in tqdm(get_file_list(peDir)):\n",
    "    makeDataSetItem(f)"
   ]
  },
  {
   "cell_type": "code",
   "execution_count": 5,
   "metadata": {
    "collapsed": true
   },
   "outputs": [],
   "source": [
    "peDir = \"/Volumes/data-1/raw_binaries/Win10-x86/\"\n",
    "outDir = \"/Users/rob/ML_Data/code_standard/win10/\"\n",
    "pemaker = pe2renn(arch=\"x86\", collection=\"windows10\", cc_name=\"visual studio\", cc_version=\"unknown\",build_flags=\"release\")"
   ]
  },
  {
   "cell_type": "code",
   "execution_count": 6,
   "metadata": {
    "collapsed": false
   },
   "outputs": [
    {
     "name": "stderr",
     "output_type": "stream",
     "text": []
    }
   ],
   "source": [
    "for f in tqdm(get_file_list(peDir)):\n",
    "    makeDataSetItem(f)"
   ]
  },
  {
   "cell_type": "code",
   "execution_count": 7,
   "metadata": {
    "collapsed": false
   },
   "outputs": [
    {
     "name": "stdout",
     "output_type": "stream",
     "text": [
      "{u'0x100170a4': [u'api-ms-win-core-libraryloader-l1-2-0.dll!GetProcAddress', 4228428550], u'0x100170a8': [u'api-ms-win-core-libraryloader-l1-2-0.dll!LoadLibraryExW', 1659956325], u'0x100171dc': [u'msvcrt.dll!__dllonexit', 3059140975], u'0x10017034': [u'rpcrt4.dll!RpcSsDestroyClientContext', 2166123553], u'0x10017100': [u'api-ms-win-core-registry-l1-1-0.dll!RegSetValueExW', 196206011], u'0x10017030': [u'rpcrt4.dll!RpcAsyncInitializeHandle', 2833709068], u'0x1001702c': [u'rpcrt4.dll!RpcStringBindingComposeW', 2952687547], u'0x10017038': [u'rpcrt4.dll!RpcBindingFromStringBindingW', 2866645542], u'0x10017134': [u'api-ms-win-core-synch-l1-2-0.dll!LeaveCriticalSection', 4019180691], u'0x10017130': [u'api-ms-win-core-synch-l1-2-0.dll!InitializeCriticalSection', 3704176705], u'0x10017138': [u'api-ms-win-core-synch-l1-2-0.dll!InitializeCriticalSectionEx', 506829623], u'0x100170f4': [u'api-ms-win-core-registry-l1-1-0.dll!RegCloseKey', 3442753167], u'0x100170f0': [u'api-ms-win-core-registry-l1-1-0.dll!RegEnumKeyExW', 4281997130], u'0x100170f8': [u'api-ms-win-core-registry-l1-1-0.dll!RegOpenKeyExW', 2101438309], u'0x10017180': [u'api-ms-win-eventing-provider-l1-1-0.dll!EventWriteTransfer', 289914468], u'0x10017028': [u'rpcrt4.dll!RpcStringFreeW', 3448565004], u'0x10017184': [u'api-ms-win-eventing-provider-l1-1-0.dll!EventRegister', 3573413189], u'0x1001703c': [u'rpcrt4.dll!I_RpcBindingInqLocalClientPID', 3939648517], u'0x10017188': [u'api-ms-win-eventing-provider-l1-1-0.dll!EventSetInformation', 2306704995], u'0x10017020': [u'rpcrt4.dll!UuidToStringW', 4284123183], u'0x10017024': [u'rpcrt4.dll!UuidFromStringW', 1199691097], u'0x10017108': [u'api-ms-win-core-rtlsupport-l1-2-0.dll!RtlCaptureContext', 2891330166], u'0x100170ac': [u'api-ms-win-core-libraryloader-l1-2-0.dll!GetModuleFileNameA', 1474990117], u'0x100171d8': [u'msvcrt.dll!??0exception@@QAE@ABV0@@Z', 3439875186], u'0x100171d4': [u'msvcrt.dll!_vsnwprintf', 3214315199], u'0x100171d0': [u'msvcrt.dll!_lock', 2718869450], u'0x100170fc': [u'api-ms-win-core-registry-l1-1-0.dll!RegQueryValueExW', 1302987560], u'0x10017220': [u'ntdll.dll!EtwTraceMessage', 1728796355], u'0x1001713c': [u'api-ms-win-core-synch-l1-2-0.dll!EnterCriticalSection', 2405283938], u'0x100170c0': [u'api-ms-win-core-localization-l1-2-1.dll!FormatMessageW', 3461521141], u'0x100171bc': [u'msvcrt.dll!_initterm', 3075988775], u'0x10017058': [u'api-ms-win-core-com-l1-1-1.dll!CoTaskMemFree', 4283624811], u'0x10017190': [u'api-ms-win-security-base-l1-2-0.dll!GetTokenInformation', 508193927], u'0x100170c8': [u'api-ms-win-core-processthreads-l1-1-2.dll!GetCurrentThreadId', 12056998], u'0x10017050': [u'rpcrt4.dll!NdrAsyncClientCall2', 3774460829], u'0x10017198': [u'api-ms-win-service-private-l1-1-1.dll!I_QueryTagInformation', 646697718], u'0x100171e0': [u'msvcrt.dll!malloc', 1994570341], u'0x10017118': [u'api-ms-win-core-synch-l1-2-0.dll!CreateMutexExW', 894499197], u'0x100171e8': [u'msvcrt.dll!_amsg_exit', 2263713705], u'0x1001704c': [u'rpcrt4.dll!RpcAsyncCompleteCall', 3847930717], u'0x10017110': [u'api-ms-win-core-synch-l1-2-0.dll!DeleteCriticalSection', 2188565803], u'0x10017218': [u'ntdll.dll!RtlPublishWnfStateData', 3492205379], u'0x10017210': [u'msvcrt.dll!memset', 881934931], u'0x1001720c': [u'msvcrt.dll!??3@YAXPAX@Z', 1997973], u'0x1001716c': [u'api-ms-win-eventing-classicprovider-l1-1-0.dll!UnregisterTraceGuids', 194433002], u'0x100171ec': [u'msvcrt.dll!_XcptFilter', 2960833547], u'0x10017048': [u'rpcrt4.dll!RpcBindingFree', 3390140566], u'0x10017044': [u'rpcrt4.dll!RpcExceptionFilter', 3922513727], u'0x1001711c': [u'api-ms-win-core-synch-l1-2-0.dll!OpenSemaphoreW', 2489586202], u'0x10017040': [u'rpcrt4.dll!RpcBindingSetOption', 1093832177], u'0x100171b4': [u'msvcrt.dll!_except_handler4_common', 1145736434], u'0x100171b0': [u'msvcrt.dll!_unlock', 3866576166], u'0x100170cc': [u'api-ms-win-core-processthreads-l1-1-2.dll!GetCurrentProcessId', 1330667437], u'0x1001705c': [u'api-ms-win-core-com-l1-1-1.dll!CLSIDFromString', 2661007761], u'0x100171b8': [u'msvcrt.dll!memcmp', 3646792841], u'0x10017168': [u'api-ms-win-eventing-classicprovider-l1-1-0.dll!GetTraceLoggerHandle', 2626987424], u'0x10017200': [u'msvcrt.dll!_CxxThrowException', 3995150307], u'0x10017204': [u'msvcrt.dll!??1type_info@@UAE@XZ', 3225575728], u'0x10017160': [u'api-ms-win-eventing-classicprovider-l1-1-0.dll!GetTraceEnableLevel', 130282447], u'0x10017208': [u'msvcrt.dll!??1exception@@UAE@XZ', 2561704514], u'0x10017164': [u'api-ms-win-eventing-classicprovider-l1-1-0.dll!TraceMessage', 311850330], u'0x1001721c': [u'ntdll.dll!RtlReportException', 2320949377], u'0x10017070': [u'api-ms-win-core-errorhandling-l1-1-1.dll!SetLastError', 2239830620], u'0x10017074': [u'api-ms-win-core-errorhandling-l1-1-1.dll!SetUnhandledExceptionFilter', 2326819971], u'0x10017078': [u'api-ms-win-core-errorhandling-l1-1-1.dll!GetLastError', 672436184], u'0x10017174': [u'api-ms-win-eventing-classicprovider-l1-1-0.dll!RegisterTraceGuidsW', 1381405756], u'0x100171c4': [u'msvcrt.dll!_purecall', 3066397195], u'0x100171c0': [u'msvcrt.dll!_swprintf_c_l', 3310695238], u'0x100171c8': [u'msvcrt.dll!?what@exception@@UBEPBDXZ', 812354654], u'0x10017170': [u'api-ms-win-eventing-classicprovider-l1-1-0.dll!GetTraceEnableFlags', 914698648], u'0x100170ec': [u'api-ms-win-core-registry-l1-1-0.dll!RegCreateKeyExW', 1293518031], u'0x100170b8': [u'api-ms-win-core-libraryloader-l1-2-0.dll!GetModuleHandleW', 1379998500], u'0x100170b0': [u'api-ms-win-core-libraryloader-l1-2-0.dll!DisableThreadLibraryCalls', 3233110131], u'0x100170b4': [u'api-ms-win-core-libraryloader-l1-2-0.dll!GetModuleHandleExW', 2725354287], u'0x100171a4': [u'msvcrt.dll!_callnewh', 1936267317], u'0x100171cc': [u'msvcrt.dll!_vsnprintf_s', 1558775419], u'0x10017060': [u'api-ms-win-core-com-l1-1-1.dll!CoTaskMemAlloc', 1809833608], u'0x10017068': [u'api-ms-win-core-debug-l1-1-1.dll!OutputDebugStringW', 291703151], u'0x1001707c': [u'api-ms-win-core-errorhandling-l1-1-1.dll!UnhandledExceptionFilter', 3839735822], u'0x10017148': [u'api-ms-win-core-synch-l1-2-0.dll!WaitForSingleObjectEx', 2473331834], u'0x10017144': [u'api-ms-win-core-synch-l1-2-0.dll!InitOnceExecuteOnce', 2244448227], u'0x10017140': [u'api-ms-win-core-synch-l1-2-0.dll!CreateEventW', 3712110344], u'0x100170e4': [u'api-ms-win-core-psapi-l1-1-0.dll!K32GetModuleFileNameExW', 2689296867], u'0x1001717c': [u'api-ms-win-eventing-provider-l1-1-0.dll!EventUnregister', 1392001154], u'0x1001714c': [u'api-ms-win-core-synch-l1-2-0.dll!Sleep', 3660069920], u'0x1001700c': [u'rmclient.dll!RmAccessCheck', 1742507453], u'0x100171a8': [u'msvcrt.dll!memcpy', 2419557764], u'0x100171fc': [u'msvcrt.dll!??0exception@@QAE@XZ', 3615608650], u'0x100171e4': [u'msvcrt.dll!free', 242488314], u'0x100171a0': [u'msvcrt.dll!__CxxFrameHandler3', 1122789213], u'0x10017128': [u'api-ms-win-core-synch-l1-2-0.dll!ReleaseSemaphore', 2114342301], u'0x10017014': [u'rpcrt4.dll!RpcAsyncCancelCall', 3881221704], u'0x10017018': [u'rpcrt4.dll!NdrClientCall4', 2389031928], u'0x10017114': [u'api-ms-win-core-synch-l1-2-0.dll!InitializeCriticalSectionAndSpinCount', 2478922447], u'0x10017154': [u'api-ms-win-core-sysinfo-l1-2-1.dll!GetSystemTimeAsFileTime', 859962782], u'0x10017090': [u'api-ms-win-core-heap-l1-2-0.dll!HeapFree', 3036253078], u'0x10017158': [u'api-ms-win-core-sysinfo-l1-2-1.dll!GetTickCount', 2118397849], u'0x10017094': [u'api-ms-win-core-heap-l1-2-0.dll!GetProcessHeap', 2567855915], u'0x1001712c': [u'api-ms-win-core-synch-l1-2-0.dll!CreateSemaphoreExW', 3636751959], u'0x100170d4': [u'api-ms-win-core-processthreads-l1-1-2.dll!TerminateProcess', 930472329], u'0x1001708c': [u'api-ms-win-core-heap-l1-2-0.dll!HeapAlloc', 1249229737], u'0x100170d0': [u'api-ms-win-core-processthreads-l1-1-2.dll!GetCurrentProcess', 567284659], u'0x1001701c': [u'rpcrt4.dll!UuidCreate', 4189755188], u'0x10017000': [u'iphlpapi.dll!ConvertInterfaceLuidToIndex', 2169241977], u'0x100171f8': [u'msvcrt.dll!memcpy_s', 3350448785], u'0x10017004': [u'iphlpapi.dll!ConvertInterfaceGuidToLuid', 63872866], u'0x100171f0': [u'msvcrt.dll!_onexit', 2654178165], u'0x100171ac': [u'msvcrt.dll!??0exception@@QAE@ABQBD@Z', 2525220241], u'0x100171f4': [u'msvcrt.dll!memmove', 1263531367], u'0x10017124': [u'api-ms-win-core-synch-l1-2-0.dll!WaitForSingleObject', 219614270], u'0x10017120': [u'api-ms-win-core-synch-l1-2-0.dll!ReleaseMutex', 312376340], u'0x10017084': [u'api-ms-win-core-handle-l1-1-0.dll!CloseHandle', 512061017], u'0x100170dc': [u'api-ms-win-core-profile-l1-1-0.dll!QueryPerformanceCounter', 1239613488], u'0x1001709c': [u'api-ms-win-core-heap-l2-1-0.dll!LocalFree', 1730625416]}\n"
     ]
    }
   ],
   "source": [
    "testPE = \"/Users/rob/ML_Data/code_standard/win10/85cdd8d6d842b9140dee7e7347cfe49a\"\n",
    "t = reNN_binary()\n",
    "t.load(testPE)\n",
    "print t.imports"
   ]
  },
  {
   "cell_type": "code",
   "execution_count": null,
   "metadata": {
    "collapsed": false
   },
   "outputs": [],
   "source": [
    "t.disassemble_func_with_names(\"StringCopyWorkerW\")"
   ]
  },
  {
   "cell_type": "code",
   "execution_count": null,
   "metadata": {
    "collapsed": true
   },
   "outputs": [],
   "source": []
  }
 ],
 "metadata": {
  "kernelspec": {
   "display_name": "Python 2",
   "language": "python",
   "name": "python2"
  },
  "language_info": {
   "codemirror_mode": {
    "name": "ipython",
    "version": 2
   },
   "file_extension": ".py",
   "mimetype": "text/x-python",
   "name": "python",
   "nbconvert_exporter": "python",
   "pygments_lexer": "ipython2",
   "version": "2.7.11"
  }
 },
 "nbformat": 4,
 "nbformat_minor": 0
}

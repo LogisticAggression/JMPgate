{
 "cells": [
  {
   "cell_type": "code",
   "execution_count": 1,
   "metadata": {
    "collapsed": true
   },
   "outputs": [],
   "source": []
  },
  {
   "cell_type": "code",
   "execution_count": 2,
   "metadata": {
    "collapsed": true
   },
   "outputs": [],
   "source": [
    "datadir = \"D:\\ReactOS\\\\ROS-VS2012-Debug-x86\\\\reactos\\\\output-VS-i386\\\\\"\n",
    "#datadir = \"D:\\ReactOS\\\\ROS-VS2015-Release-x86\\\\reactos\\\\output-VS-i386\\\\\"\n",
    "stageDir = \"D:\\\\staging\\\\\"\n",
    "datasetDir = \"D:\\\\datasets\\\\reactos\\\\\"\n",
    "\n",
    "exeTypes = [\".exe\",\".dll\",\".sys\"]"
   ]
  },
  {
   "cell_type": "code",
   "execution_count": 3,
   "metadata": {
    "collapsed": false
   },
   "outputs": [
    {
     "name": "stderr",
     "output_type": "stream",
     "text": [
      "100%|████████████████████████████████████████████████████████████████████████████| 35454/35454 [06:00<00:00, 98.44it/s]"
     ]
    },
    {
     "name": "stdout",
     "output_type": "stream",
     "text": [
      "673\n"
     ]
    },
    {
     "name": "stderr",
     "output_type": "stream",
     "text": [
      "\n",
      "100%|████████████████████████████████████████████████████████████████████████████| 35454/35454 [06:00<00:00, 98.44it/s]"
     ]
    },
    {
     "name": "stdout",
     "output_type": "stream",
     "text": [
      "673\n"
     ]
    },
    {
     "name": "stderr",
     "output_type": "stream",
     "text": [
      "\n"
     ]
    },
    {
     "name": "stdout",
     "output_type": "stream",
     "text": [
      "673\n"
     ]
    },
    {
     "name": "stderr",
     "output_type": "stream",
     "text": [
      "\n"
     ]
    }
   ],
   "source": [
    "pes = []\n",
    "allFiles = []\n",
    "\n",
    "#datadir =\"d:\\\\staging\\\\\"\n",
    "\n",
    "for root, dir, files in os.walk(datadir):\n",
    "    for f in files:\n",
    "        allFiles.append(root+\"\\\\\"+f)\n",
    "        \n",
    "allFiles = list(set(allFiles))\n",
    "\n",
    "for f in tqdm(allFiles):\n",
    "    c = 0\n",
    "    hasPDB = False\n",
    "    exSec = False\n",
    "    try:\n",
    "        pe = pefile.PE(f)\n",
    "    except:\n",
    "        continue\n",
    "    for s in pe.sections:\n",
    "        if s.IMAGE_SCN_MEM_EXECUTE:\n",
    "            c = c + 1\n",
    "            exSec = True\n",
    "    buff = open(f,\"rb\").read()\n",
    "    pdbstr = re.findall(\"D:.*\\.pdb\",buff)\n",
    "    if pdbstr:\n",
    "        hasPDB = True\n",
    "    if hasPDB and exSec:\n",
    "        pes.append(f)\n",
    "print len(pes)\n",
    "            "
   ]
  },
  {
   "cell_type": "code",
   "execution_count": 4,
   "metadata": {
    "collapsed": false
   },
   "outputs": [
    {
     "name": "stderr",
     "output_type": "stream",
     "text": [
      "100%|████████████████████████████████████████████████████████████████████████████████| 673/673 [00:09<00:00, 68.37it/s]\n",
      "100%|████████████████████████████████████████████████████████████████████████████████| 673/673 [00:09<00:00, 68.37it/s]\n",
      "100%|████████████████████████████████████████████████████████████████████████████████| 673/673 [00:09<00:00, 68.37it/s]\n"
     ]
    }
   ],
   "source": [
    "           \n",
    "for f in tqdm(pes):\n",
    "    baseName = f.split(\"\\\\\")[-1]\n",
    "    shutil.copyfile(f,stageDir+baseName)\n",
    "    \n",
    "    "
   ]
  },
  {
   "cell_type": "code",
   "execution_count": 5,
   "metadata": {
    "collapsed": false
   },
   "outputs": [],
   "source": [
    "def processPDB(filename, codeOffset):\n",
    "    d = {}\n",
    "    p = open(\"C:\\\\Temp\\\\pdbtmp.txt\",\"w\")\n",
    "    sp.call([\"c:\\\\tools\\\\dia2dump.exe\",\"-s\",filename], stdout=p)\n",
    "    p.close()\n",
    "    p = open(\"C:\\\\Temp\\\\pdbtmp.txt\",\"r\")\n",
    "    for line in p:\n",
    "        if re.match(\"Function\",line):\n",
    "            tok = line.split(\",\")\n",
    "            #print tok\n",
    "            name = tok[3].strip()\n",
    "            length = tok[2].split(\"=\")[1]\n",
    "            offset = tok[1].split(\"]\")[0].split(\"[\")[1]\n",
    "            d[name] = (int(offset,16)-codeOffset,int(length,16))\n",
    "    p.close()\n",
    "    \n",
    "    return d\n",
    "\n",
    "def getMD5(filename):\n",
    "    hasher = hashlib.md5()\n",
    "    with open(filename, 'rb') as afile:\n",
    "        buf = afile.read()\n",
    "        hasher.update(buf)\n",
    "    afile.close\n",
    "    return hasher.hexdigest()\n",
    "\n",
    "def getImports(pe):\n",
    "    imports = {}\n",
    "    for entry in pe.DIRECTORY_ENTRY_IMPORT:\n",
    "        for imp in entry.imports:\n",
    "            cname = entry.dll+\"!\"+imp.name\n",
    "            #Need to AND cname because murmur hash returns signed int\n",
    "            imports[hex(imp.address)] = (cname, mmh3.hash(cname) & 0xffffffff)\n",
    "    return imports\n",
    "\n",
    "def normalizeCode(rawCode, codeBase, imports):  \n",
    "    md = Cs(CS_ARCH_X86, CS_MODE_32)\n",
    "    md.detail = True\n",
    "    \n",
    "    normCode = rawCode\n",
    "    \n",
    "    for insn in md.disasm(rawCode, codeBase):\n",
    "        offset = insn.address - codeBase\n",
    "        end = offset + insn.size\n",
    "        if insn.mnemonic == \"call\":\n",
    "            addrs = re.findall(r'0x[0-9a-fA-F]+', insn.op_str)\n",
    "            for a in addrs:\n",
    "                if a in imports:\n",
    "                    ibytes = \"\"\n",
    "                    ihash = str(hex(imports[a][1])[2:])\n",
    "                    #Pad hash with 0 \n",
    "                    if len(ihash) < 8:\n",
    "                        ihash = ''.join([\"0\" for x in xrange(0,8-len(ihash))]) + ihash\n",
    "                    for i in xrange(0, 8, 2):\n",
    "                        ibytes += chr(int(ihash[i:i+2],16))\n",
    "                    normCode = rawCode[:end-3] + ibytes + rawCode[end+1:]\n",
    "    return normCode\n",
    "    \n",
    "#processPDB(\"d:\\\\ReactOS\\\\ROS-VS2015-Debug-x86\\\\reactos\\\\output-VS-i386\\\\msvc_pdb\\\\Debug\\\\write.pdb\")"
   ]
  },
  {
   "cell_type": "code",
   "execution_count": 6,
   "metadata": {
    "collapsed": false
   },
   "outputs": [],
   "source": [
    "def dictify(filename):\n",
    "    d = {}\n",
    "    buff = open(filename,\"rb\").read()\n",
    "    PDBPath = re.findall(\"D:.*\\.pdb\",buff)\n",
    "    pe = pefile.PE(filename)\n",
    "    for s in pe.sections:\n",
    "        if s.IMAGE_SCN_MEM_EXECUTE:\n",
    "            codeOffset = s.VirtualAddress\n",
    "            codeLen = s.SizeOfRawData\n",
    "    d[\"Name\"] = filename.split(\"\\\\\")[-1]\n",
    "    d[\"MD5\"] = getMD5(filename)\n",
    "    d[\"Collection\"] = \"ReactOS\"\n",
    "    d[\"CC_Name\"] = \"Visual Studio\"\n",
    "    d[\"CC_Version\"] = \"11\"\n",
    "    d[\"Arch\"] = \"x86\"\n",
    "    d[\"Build_Flags\"] = \"Debug\"\n",
    "    d[\"CodeBase\"] = pe.OPTIONAL_HEADER.ImageBase + pe.OPTIONAL_HEADER.BaseOfCode\n",
    "    d[\"Funcs\"] = processPDB(PDBPath, codeOffset)\n",
    "    d[\"Imports\"] = getImports(pe)\n",
    "    d[\"Raw_Code\"] = base64.b64encode(pe.get_memory_mapped_image()[codeOffset:codeOffset+codeLen])\n",
    "    d[\"Normalized_Code\"] = base64.b64encode(normalizeCode(d[\"Raw_Code\"], d[\"CodeBase\"], d[\"Imports\"]))\n",
    "    pe.close()\n",
    "\n",
    "    return d\n",
    "\n",
    "#myBlob = dictify(\"d:\\\\staging\\\\write.exe\")\n",
    "#print myBlob"
   ]
  },
  {
   "cell_type": "code",
   "execution_count": 7,
   "metadata": {
    "collapsed": false
   },
   "outputs": [],
   "source": [
    "def makeDataSetItem(filename):\n",
    "    try:\n",
    "        d = dictify(filename)\n",
    "    except:\n",
    "        return\n",
    "    with open(datasetDir+d[\"MD5\"],\"w\") as outfile:\n",
    "        json.dump(d,outfile)"
   ]
  },
  {
   "cell_type": "code",
   "execution_count": 8,
   "metadata": {
    "collapsed": false
   },
   "outputs": [
    {
     "name": "stderr",
     "output_type": "stream",
     "text": [
      "100%|████████████████████████████████████████████████████████████████████████████████| 665/665 [10:50<00:00,  1.13s/it]\n",
      "100%|████████████████████████████████████████████████████████████████████████████████| 665/665 [10:50<00:00,  1.13s/it]\n",
      "\n"
     ]
    }
   ],
   "source": [
    "for f in tqdm(os.listdir(stageDir)):\n",
    "    makeDataSetItem(stageDir+f)"
   ]
  },
  {
   "cell_type": "code",
   "execution_count": null,
   "metadata": {
    "collapsed": true
   },
   "outputs": [],
   "source": [
    "b"
   ]
  },
  {
   "cell_type": "code",
   "execution_count": null,
   "metadata": {
    "collapsed": true
   },
   "outputs": [],
   "source": []
  }
 ],
 "metadata": {
  "kernelspec": {
   "display_name": "Python 2",
   "language": "python",
   "name": "python2"
  },
  "language_info": {
   "codemirror_mode": {
    "name": "ipython",
    "version": 2
   },
   "file_extension": ".py",
   "mimetype": "text/x-python",
   "name": "python",
   "nbconvert_exporter": "python",
   "pygments_lexer": "ipython2",
   "version": "2.7.11"
  }
 },
 "nbformat": 4,
 "nbformat_minor": 0
}

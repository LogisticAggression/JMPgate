{
 "cells": [
  {
   "cell_type": "code",
   "execution_count": 1,
   "metadata": {
    "collapsed": true
   },
   "outputs": [],
   "source": [
    "import os\n",
    "import shutil\n",
    "\n",
    "from reNN.base import reNN_binary\n",
    "from reNN.elfutils import elf2renn\n",
    "\n",
    "from capstone import *\n",
    "\n",
    "from tqdm import tqdm"
   ]
  },
  {
   "cell_type": "code",
   "execution_count": 2,
   "metadata": {
    "collapsed": false
   },
   "outputs": [],
   "source": [
    "testElf = \"/Volumes/data/arch/abs-o1/cat\"\n",
    "\n",
    "#myelf = ELFFile(open(testElf,\"r\"))"
   ]
  },
  {
   "cell_type": "code",
   "execution_count": null,
   "metadata": {
    "collapsed": true
   },
   "outputs": [],
   "source": [
    "def makeDataSetItem(filename):\n",
    "    try:\n",
    "        d = elfmaker.dictify(filename)\n",
    "    except:\n",
    "        return\n",
    "    elfmaker.dump_to_json(d, outDir+d[\"MD5\"])"
   ]
  },
  {
   "cell_type": "code",
   "execution_count": null,
   "metadata": {
    "collapsed": false
   },
   "outputs": [],
   "source": [
    "elfDir = \"/Volumes/data/arch/abs-o1/\"\n",
    "outDir = \"/Users/rob/ML_Data/code_standard/arch_linux/\"\n",
    "elfmaker = elf2renn(arch=\"x86\", collection=\"Arch_Linux\", cc_name=\"gcc\", cc_version=\"6.2.1\",build_flags=\"-O1\")"
   ]
  },
  {
   "cell_type": "code",
   "execution_count": null,
   "metadata": {
    "collapsed": false
   },
   "outputs": [],
   "source": [
    "for f in tqdm(os.listdir(elfDir)):\n",
    "    makeDataSetItem(elfDir+f)"
   ]
  },
  {
   "cell_type": "code",
   "execution_count": null,
   "metadata": {
    "collapsed": true
   },
   "outputs": [],
   "source": [
    "elfDir = \"/Volumes/data/arch/abs-o3/\"\n",
    "outDir = \"/Users/rob/ML_Data/code_standard/arch_linux/\"\n",
    "elfmaker = elf2renn(arch=\"x86\", collection=\"Arch_Linux\", cc_name=\"gcc\", cc_version=\"6.2.1\",build_flags=\"-O3\")"
   ]
  },
  {
   "cell_type": "code",
   "execution_count": null,
   "metadata": {
    "collapsed": false
   },
   "outputs": [],
   "source": [
    "for f in tqdm(os.listdir(elfDir)):\n",
    "    makeDataSetItem(elfDir+f)"
   ]
  },
  {
   "cell_type": "code",
   "execution_count": 3,
   "metadata": {
    "collapsed": true
   },
   "outputs": [],
   "source": [
    "b = reNN_binary()\n",
    "b.load(\"/Users/rob/ML_Data/code_standard/arch_linux/80fdf4409d42b484a10214192e5485e2\")"
   ]
  },
  {
   "cell_type": "code",
   "execution_count": null,
   "metadata": {
    "collapsed": false
   },
   "outputs": [],
   "source": [
    "b.functions"
   ]
  },
  {
   "cell_type": "code",
   "execution_count": 4,
   "metadata": {
    "collapsed": false
   },
   "outputs": [
    {
     "data": {
      "text/plain": [
       "[u'0x806ff10L push ebp',\n",
       " u'0x806ff11L push edi',\n",
       " u'0x806ff12L xor ebp, ebp',\n",
       " u'0x806ff14L push esi',\n",
       " u'0x806ff15L push ebx',\n",
       " u'0x806ff16L call 0x804f270',\n",
       " u'0x806ff1bL add ebx, 0x440e5',\n",
       " u'0x806ff21L sub esp, 0x28',\n",
       " u'0x806ff24L mov edi, dword ptr [esp + 0x48]',\n",
       " u'0x806ff28L mov ecx, dword ptr [esp + 0x3c]',\n",
       " u'0x806ff2cL mov eax, dword ptr [esp + 0x40]',\n",
       " u'0x806ff30L mov edx, dword ptr [esp + 0x44]',\n",
       " u'0x806ff34L mov dword ptr [esp + 0x10], ebp',\n",
       " u'0x806ff38L mov esi, edi',\n",
       " u'0x806ff3aL mov edi, ebp',\n",
       " u'0x806ff3cL lea ebp, dword ptr [ecx + 4]',\n",
       " u'0x806ff3fL mov dword ptr [esp + 0xc], esi',\n",
       " u'0x806ff43L mov dword ptr [esp + 0x14], eax',\n",
       " u'0x806ff47L mov dword ptr [esp + 0x18], edx',\n",
       " u'0x806ff4bL push edi',\n",
       " u'0x806ff4cL mov edi, edx',\n",
       " u'0x806ff4eL push esi',\n",
       " u'0x806ff4fL push edx',\n",
       " u'0x806ff50L mov esi, eax',\n",
       " u'0x806ff52L push eax',\n",
       " u'0x806ff53L push ebp',\n",
       " u'0x806ff54L call 0x806e470',\n",
       " u'0x806ff59L add esp, 0x20',\n",
       " u'0x806ff5cL test eax, eax',\n",
       " u'0x806ff5eL je 0x806ff7e',\n",
       " u'0x806ff60L mov edx, dword ptr [eax + 0x14]',\n",
       " u'0x806ff63L mov ecx, dword ptr [eax + 0x18]',\n",
       " u'0x806ff66L xor edx, esi',\n",
       " u'0x806ff68L xor ecx, edi',\n",
       " u'0x806ff6aL or ecx, edx',\n",
       " u'0x806ff6cL je 0x8070040',\n",
       " u'0x806ff72L sub esp, 0xc',\n",
       " u'0x806ff75L push eax',\n",
       " u'0x806ff76L call 0x806fc80',\n",
       " u'0x806ff7bL add esp, 0x10',\n",
       " u'0x806ff7eL sub esp, 8',\n",
       " u'0x806ff81L mov eax, dword ptr [esp + 0x44]',\n",
       " u'0x806ff85L add eax, 0x58',\n",
       " u'0x806ff88L push eax',\n",
       " u'0x806ff89L push 1',\n",
       " u'0x806ff8bL call calloc',\n",
       " u'0x806ff90L add esp, 0x10',\n",
       " u'0x806ff93L test eax, eax',\n",
       " u'0x806ff95L mov esi, eax',\n",
       " u'0x806ff97L je 0x8070033',\n",
       " u'0x806ff9dL mov eax, dword ptr [esp + 8]',\n",
       " u'0x806ffa1L mov edx, dword ptr [esp + 0xc]',\n",
       " u'0x806ffa5L sub esp, 8',\n",
       " u'0x806ffa8L mov edi, dword ptr [esp + 0x44]',\n",
       " u'0x806ffacL mov dword ptr [esi + 0x4c], 1',\n",
       " u'0x806ffb3L mov dword ptr [esi + 0x50], 0',\n",
       " u'0x806ffbaL mov dword ptr [esi + 0x54], 0xffffffff',\n",
       " u'0x806ffc1L mov dword ptr [esi + 0x24], eax',\n",
       " u'0x806ffc4L mov dword ptr [esi + 0x14], eax',\n",
       " u'0x806ffc7L mov eax, dword ptr [esp + 8]',\n",
       " u'0x806ffcbL mov dword ptr [esi + 0x28], edx',\n",
       " u'0x806ffceL mov dword ptr [esi + 0x34], edi',\n",
       " u'0x806ffd1L mov dword ptr [esi + 0x18], edx',\n",
       " u'0x806ffd4L mov edi, dword ptr [esp + 0x38]',\n",
       " u'0x806ffd8L mov edx, dword ptr [esp + 0xc]',\n",
       " u'0x806ffdcL mov dword ptr [esi + 0x1c], eax',\n",
       " u'0x806ffdfL lea eax, dword ptr [esi + 0x44]',\n",
       " u'0x806ffe2L mov dword ptr [esi + 0x2c], 0xffffffff',\n",
       " u'0x806ffe9L mov dword ptr [esi + 0x30], 0xffffffff',\n",
       " u'0x806fff0L mov dword ptr [esi + 0x38], edi',\n",
       " u'0x806fff3L mov dword ptr [esi + 0x20], edx',\n",
       " u'0x806fff6L mov dword ptr [esi + 0x44], eax',\n",
       " u'0x806fff9L mov dword ptr [esi + 0x48], eax',\n",
       " u'0x806fffcL push esi',\n",
       " u'0x806fffdL push ebp',\n",
       " u'0x806fffeL call 0x806e2c0',\n",
       " u'0x8070003L add esp, 0x10',\n",
       " u'0x8070006L test eax, eax',\n",
       " u'0x8070008L jne 0x8070080',\n",
       " u'0x807000aL mov eax, dword ptr [esp + 0x30]',\n",
       " u'0x807000eL mov ebx, dword ptr [esp + 0x30]',\n",
       " u'0x8070012L lea edx, dword ptr [esi + 0x3c]',\n",
       " u'0x8070015L mov eax, dword ptr [eax + 0xc]',\n",
       " u'0x8070018L lea ecx, dword ptr [ebx + 8]',\n",
       " u'0x807001bL mov dword ptr [ebx + 0xc], edx',\n",
       " u'0x807001eL mov dword ptr [esi + 0x3c], ecx',\n",
       " u'0x8070021L mov dword ptr [esi + 0x40], eax',\n",
       " u'0x8070024L mov dword ptr [eax], edx',\n",
       " u'0x8070026L mov eax, dword ptr [esp]',\n",
       " u'0x8070029L add dword ptr [ebx + 0x10], eax',\n",
       " u'0x807002cL mov edx, dword ptr [esp + 4]',\n",
       " u'0x8070030L adc dword ptr [ebx + 0x14], edx',\n",
       " u'0x8070033L add esp, 0x1c',\n",
       " u'0x8070036L mov eax, esi',\n",
       " u'0x8070038L pop ebx',\n",
       " u'0x8070039L pop esi',\n",
       " u'0x807003aL pop edi',\n",
       " u'0x807003bL pop ebp',\n",
       " u'0x807003cL ret ',\n",
       " u'0x807003dL lea esi, dword ptr [esi]',\n",
       " u'0x8070040L mov edx, dword ptr [esp + 0x3c]',\n",
       " u'0x8070044L xor edx, dword ptr [eax + 0x1c]',\n",
       " u'0x8070047L or edx, dword ptr [eax + 0x20]',\n",
       " u'0x807004aL jne 0x806ff72',\n",
       " u'0x8070050L mov edx, dword ptr [eax + 0x40]',\n",
       " u'0x8070053L mov ebx, dword ptr [eax + 0x3c]',\n",
       " u'0x8070056L lea ecx, dword ptr [eax + 0x3c]',\n",
       " u'0x8070059L mov edi, dword ptr [esp + 0x30]',\n",
       " u'0x807005dL mov esi, eax',\n",
       " u'0x807005fL mov dword ptr [ebx + 4], edx',\n",
       " u'0x8070062L mov dword ptr [edx], ebx',\n",
       " u'0x8070064L mov edx, dword ptr [esp + 0x30]',\n",
       " u'0x8070068L add edi, 8',\n",
       " u'0x807006bL mov edx, dword ptr [edx + 0xc]',\n",
       " u'0x807006eL mov dword ptr [edi + 4], ecx',\n",
       " u'0x8070071L mov dword ptr [eax + 0x3c], edi',\n",
       " u'0x8070074L mov dword ptr [eax + 0x40], edx',\n",
       " u'0x8070077L mov dword ptr [edx], ecx',\n",
       " u'0x8070079L add dword ptr [eax + 0x4c], 1',\n",
       " u'0x807007dL jmp 0x8070033',\n",
       " u'0x807007fL nop ',\n",
       " u'0x8070080L sub esp, 0xc',\n",
       " u'0x8070083L push esi',\n",
       " u'0x8070084L xor esi, esi',\n",
       " u'0x8070086L call free',\n",
       " u'0x807008bL add esp, 0x10',\n",
       " u'0x807008eL jmp 0x8070033']"
      ]
     },
     "execution_count": 4,
     "metadata": {},
     "output_type": "execute_result"
    }
   ],
   "source": [
    "b.disassemble_func_with_names(\"alloc_extent_buffer\")"
   ]
  },
  {
   "cell_type": "code",
   "execution_count": null,
   "metadata": {
    "collapsed": false
   },
   "outputs": [],
   "source": [
    "b.imports[\"0x804e440\"][0]"
   ]
  },
  {
   "cell_type": "code",
   "execution_count": null,
   "metadata": {
    "collapsed": true
   },
   "outputs": [],
   "source": []
  }
 ],
 "metadata": {
  "kernelspec": {
   "display_name": "Python 2",
   "language": "python",
   "name": "python2"
  },
  "language_info": {
   "codemirror_mode": {
    "name": "ipython",
    "version": 2
   },
   "file_extension": ".py",
   "mimetype": "text/x-python",
   "name": "python",
   "nbconvert_exporter": "python",
   "pygments_lexer": "ipython2",
   "version": "2.7.11"
  }
 },
 "nbformat": 4,
 "nbformat_minor": 0
}
